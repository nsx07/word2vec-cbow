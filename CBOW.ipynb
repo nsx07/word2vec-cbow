{
  "nbformat": 4,
  "nbformat_minor": 0,
  "metadata": {
    "colab": {
      "provenance": [],
      "gpuType": "T4",
      "authorship_tag": "ABX9TyO4m1UJC3rf6yr1Kek+Nwcf",
      "include_colab_link": true
    },
    "kernelspec": {
      "name": "python3",
      "display_name": "Python 3"
    },
    "language_info": {
      "name": "python"
    },
    "accelerator": "GPU"
  },
  "cells": [
    {
      "cell_type": "markdown",
      "metadata": {
        "id": "view-in-github",
        "colab_type": "text"
      },
      "source": [
        "<a href=\"https://colab.research.google.com/github/nsx07/word2vec-cbow/blob/main/CBOW.ipynb\" target=\"_parent\"><img src=\"https://colab.research.google.com/assets/colab-badge.svg\" alt=\"Open In Colab\"/></a>"
      ]
    },
    {
      "cell_type": "markdown",
      "source": [
        "### CBOW from Scratch"
      ],
      "metadata": {
        "id": "z259mQLHF3Jo"
      }
    },
    {
      "cell_type": "code",
      "source": [
        "import numpy as np\n",
        "import re\n",
        "\n",
        "class CBOW:\n",
        "    \"\"\"\n",
        "    Continuous Bag of Words (CBOW) model for learning word embeddings.\n",
        "\n",
        "    Attributes:\n",
        "        embedding_dim (int): Dimensionality of the word embeddings.\n",
        "        window_size (int): Context window size.\n",
        "        epochs (int): Number of training epochs.\n",
        "        learning_rate (float): Learning rate for weight updates.\n",
        "        training_data (list): List of training sentences.\n",
        "        vocab_size (int): Size of the vocabulary.\n",
        "        vocab (list): List of unique words in the vocabulary.\n",
        "        word_to_index (dict): Mapping from word to index.\n",
        "        index_to_word (dict): Mapping from index to word.\n",
        "        encoded_training_data (list): Encoded training data.\n",
        "        embeddings (np.array): Word embedding matrix.\n",
        "        output_weights (np.array): Output weight matrix.\n",
        "    \"\"\"\n",
        "\n",
        "    def __init__(self, embedding_dim, window_size, epochs, learning_rate):\n",
        "        \"\"\"\n",
        "        Initializes the CBOW model with the given parameters.\n",
        "        Args:\n",
        "            embedding_dim (int): Dimensionality of the word embeddings.\n",
        "            window_size (int): Context window size.\n",
        "            epochs (int): Number of training epochs.\n",
        "            learning_rate (float): Learning rate for weight updates.\n",
        "        \"\"\"\n",
        "        self.embedding_dim = embedding_dim\n",
        "        self.learning_rate = learning_rate\n",
        "        self.window_size = window_size\n",
        "        self.epochs = epochs\n",
        "\n",
        "        # Attributes to be set during training\n",
        "        self.encoded_training_data = None\n",
        "        self.training_data = None\n",
        "        self.word_to_index = None\n",
        "        self.index_to_word = None\n",
        "        self.vocab_size = None\n",
        "        self.vocab = None\n",
        "\n",
        "        # Weight matrices\n",
        "        self.output_weights = None\n",
        "        self.embeddings = None\n",
        "\n",
        "    def separate_sentences(self, text):\n",
        "        \"\"\"\n",
        "        Separates the input text into sentences based on punctuation.\n",
        "\n",
        "        Args:\n",
        "            text (str): Input text.\n",
        "\n",
        "        Returns:\n",
        "            list: List of sentences.\n",
        "        \"\"\"\n",
        "        sentences = re.split(r'[.!?;]+', text)  # Split text into sentences\n",
        "        sentences = [sentence.strip() for sentence in sentences if sentence.strip()]  # Remove empty strings and strip whitespace\n",
        "        return sentences\n",
        "\n",
        "    def create_vocabulary(self):\n",
        "        \"\"\"\n",
        "        Creates the vocabulary from the training data.\n",
        "        \"\"\"\n",
        "        all_words = re.sub(r'[^\\w\\s]', '', ' '.join(self.training_data).lower()).split()  # Remove punctuation and split into words\n",
        "        self.vocab = sorted(set(all_words))  # Get unique words\n",
        "        self.vocab_size = len(self.vocab)  # Size of the vocabulary\n",
        "        self.word_to_index = {word: idx for idx, word in enumerate(self.vocab)}  # Mapping from word to index\n",
        "        self.index_to_word = {idx: word for word, idx in self.word_to_index.items()}  # Mapping from index to word\n",
        "\n",
        "    def one_hot(self, word):\n",
        "        \"\"\"\n",
        "        Creates a one-hot vector for a given word.\n",
        "\n",
        "        Args:\n",
        "            word (str): The word to encode.\n",
        "\n",
        "        Returns:\n",
        "            np.array: One-hot vector.\n",
        "        \"\"\"\n",
        "        one_hot_vector = np.zeros(self.vocab_size)\n",
        "        one_hot_vector[self.word_to_index[word]] = 1\n",
        "        return one_hot_vector\n",
        "\n",
        "    def encode_training_data(self):\n",
        "        \"\"\"\n",
        "        Encodes the training data into pairs of onehot vector of target words and context words.\n",
        "        \"\"\"\n",
        "        self.encoded_training_data = []\n",
        "\n",
        "        for sentence in self.training_data:\n",
        "            tokens = re.sub(r'[^\\w\\s]', '', sentence).lower().split()  # Tokenize and clean the sentence\n",
        "\n",
        "            for word_pos, word in enumerate(tokens):\n",
        "                target_word = self.one_hot(word)  # One-hot encode the target word\n",
        "                context_words = []\n",
        "\n",
        "                # Collect context words within the window size\n",
        "                for context_pos in range(word_pos - self.window_size, word_pos + self.window_size + 1):\n",
        "                    if 0 <= context_pos < len(tokens) and context_pos != word_pos:\n",
        "                        context_words.append(tokens[context_pos])\n",
        "\n",
        "                if context_words:\n",
        "                    self.encoded_training_data.append((target_word, context_words))  # Add pair to the encoded training data\n",
        "\n",
        "    def initialize_weights(self):\n",
        "        \"\"\"\n",
        "        Initializes the weight matrices with random values.\n",
        "        \"\"\"\n",
        "        self.embeddings = np.random.rand(self.vocab_size, self.embedding_dim)  # Word embedding matrix\n",
        "        self.output_weights = np.random.rand(self.embedding_dim, self.vocab_size)  # Output weight matrix\n",
        "\n",
        "    def softmax(self, x):\n",
        "        \"\"\"\n",
        "        Computes the softmax of the input array.\n",
        "\n",
        "        Args:\n",
        "            x (np.array): Input array.\n",
        "\n",
        "        Returns:\n",
        "            np.array: Softmax probabilities.\n",
        "        \"\"\"\n",
        "        exp_x = np.exp(x - np.max(x))  # Subtract max for numerical stability\n",
        "        return exp_x / np.sum(exp_x)\n",
        "\n",
        "    def get_average_context_vector(self, context):\n",
        "        \"\"\"\n",
        "        Computes the average context vector from the context words.\n",
        "\n",
        "        Args:\n",
        "            context (list): List of context words.\n",
        "\n",
        "        Returns:\n",
        "            np.array: Average context vector.\n",
        "        \"\"\"\n",
        "        avg_vector = np.zeros(self.embedding_dim)\n",
        "        for word in context:\n",
        "            avg_vector += self.embeddings[self.word_to_index[word]]\n",
        "        return avg_vector / len(context)  # Average the context vectors\n",
        "\n",
        "    def compute_loss(self, y, y_pred):\n",
        "        \"\"\"\n",
        "        Computes the cross-entropy loss between the true and predicted distributions.\n",
        "\n",
        "        Args:\n",
        "            y (np.array): True distribution (one-hot vector).\n",
        "            y_pred (np.array): Predicted distribution (softmax output).\n",
        "\n",
        "        Returns:\n",
        "            float: Cross-entropy loss.\n",
        "        \"\"\"\n",
        "        epsilon = 1e-10  # Small value to avoid log(0)\n",
        "        return -np.sum(y * np.log(y_pred + epsilon))\n",
        "\n",
        "    def update_weights(self, error, avg_context_vec, context):\n",
        "        \"\"\"\n",
        "        Updates the weight matrices using backpropagation.\n",
        "\n",
        "        Args:\n",
        "            error (np.array): Error vector (y_pred - y).\n",
        "            avg_context_vec (np.array): Average context vector.\n",
        "            context (list): List of context words.\n",
        "        \"\"\"\n",
        "        self.output_weights -= self.learning_rate * np.outer(avg_context_vec, error)  # Update output weights\n",
        "        EH = np.dot(self.output_weights, error)  # Error for hidden layer\n",
        "        for word in context:\n",
        "            self.embeddings[self.word_to_index[word]] -= self.learning_rate * EH  # Update input embeddings\n",
        "\n",
        "    def train(self, training_data):\n",
        "        \"\"\"\n",
        "        Trains the CBOW model on the given training data.\n",
        "\n",
        "        Args:\n",
        "            training_data (str): Input text for training.\n",
        "        \"\"\"\n",
        "        self.training_data = self.separate_sentences(training_data)  # Split text into sentences\n",
        "\n",
        "        self.create_vocabulary()\n",
        "        self.encode_training_data()\n",
        "        self.initialize_weights()\n",
        "\n",
        "        self.losses = []\n",
        "\n",
        "        for epoch in range(self.epochs):\n",
        "            total_loss = 0\n",
        "            for target_word, context in self.encoded_training_data:\n",
        "                avg_context_vec = self.get_average_context_vector(context)  # Compute average context vector\n",
        "                scores = np.dot(avg_context_vec, self.output_weights)  # Compute scores\n",
        "                y_pred = self.softmax(scores)  # Compute softmax probabilities\n",
        "\n",
        "                error = y_pred - target_word  # Compute error\n",
        "                total_loss += self.compute_loss(target_word, y_pred)  # Accumulate loss\n",
        "\n",
        "                self.update_weights(error, avg_context_vec, context)  # Update weights\n",
        "\n",
        "            self.losses.append(total_loss)\n",
        "\n",
        "    def print_embeddings(self):\n",
        "        \"\"\"\n",
        "        Prints the learned word embeddings.\n",
        "        \"\"\"\n",
        "        if self.embeddings is None or self.vocab is None:\n",
        "            print(\"The model has not been trained yet.\")\n",
        "            return\n",
        "\n",
        "        for word, idx in self.word_to_index.items():\n",
        "            print(f'{word}: {self.embeddings[idx]}')\n"
      ],
      "metadata": {
        "id": "_7iy12vjFyqJ"
      },
      "execution_count": 314,
      "outputs": []
    },
    {
      "cell_type": "markdown",
      "source": [
        "### Parametros e execução"
      ],
      "metadata": {
        "id": "HId8EPCgukrn"
      }
    },
    {
      "cell_type": "code",
      "source": [
        "SOURCE = \"Pierre, after all, had not managed to choose a career for himself in Petersburg, and had been expelled from there for riotous conduct and sent to Moscow. The story told about him at Count Rostóv’s was true. Pierre had taken part in tying a policeman to a bear. He had now been for some days in Moscow and was staying as usual at his father’s house. Though he expected that the story of his escapade would be already known in Moscow and that the ladies about his father—who were never favorably disposed toward him—would have used it to turn the count against him, he nevertheless on the day of his arrival went to his father’s part of the house. Entering the drawing room, where the princesses spent most of their time, he greeted the ladies, two of whom were sitting at embroidery frames while a third read aloud. It was the eldest who was reading—the one who had met Anna Mikháylovna. The two younger ones were embroidering: both were rosy and pretty and they differed only in that one had a little mole on her lip which made her much prettier. Pierre was received as if he were a corpse or a leper. The eldest princess paused in her reading and silently stared at him with frightened eyes; the second assumed precisely the same expression; while the youngest, the one with the mole, who was of a cheerful and lively disposition, bent over her frame to hide a smile probably evoked by the amusing scene she foresaw. She drew her wool down through the canvas and, scarcely able to refrain from laughing, stooped as if trying to make out the pattern.\"\n",
        "\n",
        "LEARNING_RATE = 0.03\n",
        "EMBEDDING_DIM = 10\n",
        "WINDOW_SIZE = 4\n",
        "EPOCHS = 300\n",
        "\n",
        "w2v = CBOW(embedding_dim=EMBEDDING_DIM, learning_rate=LEARNING_RATE,\n",
        "           window_size=WINDOW_SIZE, epochs=EPOCHS)\n",
        "\n",
        "w2v.train(SOURCE)"
      ],
      "metadata": {
        "collapsed": true,
        "id": "VD6M-qLFueP-"
      },
      "execution_count": 315,
      "outputs": []
    },
    {
      "cell_type": "markdown",
      "source": [
        "### Gráficos 3D"
      ],
      "metadata": {
        "id": "AFhdNai0uRli"
      }
    },
    {
      "cell_type": "code",
      "source": [
        "import matplotlib.pyplot as plt\n",
        "\n",
        "fig, ax = plt.subplots(figsize=(10, 5))\n",
        "ax.set_title(f'Perda após {EPOCHS} Épocas')\n",
        "ax.set_xlabel('Épocas')\n",
        "ax.set_ylabel('Perda')\n",
        "ax.plot(list(range(EPOCHS)), w2v.losses)\n",
        "plt.show()"
      ],
      "metadata": {
        "colab": {
          "base_uri": "https://localhost:8080/",
          "height": 492
        },
        "id": "7W8g5rQxxv35",
        "outputId": "43f5f0a6-9816-406b-8708-18560de09b55"
      },
      "execution_count": 317,
      "outputs": [
        {
          "output_type": "display_data",
          "data": {
            "text/plain": [
              "<Figure size 1000x500 with 1 Axes>"
            ],
            "image/png": "[encoded data removed]"
          },
          "metadata": {}
        }
      ]
    },
    {
      "cell_type": "code",
      "source": [
        "from sklearn.decomposition import PCA\n",
        "import plotly.graph_objs as go\n",
        "import plotly.io as pio\n",
        "\n",
        "def plot_embeddings_plotly(embeddings, vocab):\n",
        "    pca = PCA(n_components=3)\n",
        "    reduced_embeddings = pca.fit_transform(embeddings)\n",
        "    data = [go.Scatter3d(\n",
        "        x=[embedding[0] for embedding in reduced_embeddings],\n",
        "        y=[embedding[1] for embedding in reduced_embeddings],\n",
        "        z=[embedding[2] for embedding in reduced_embeddings],\n",
        "        text=vocab,\n",
        "        mode='markers+text',\n",
        "        marker=dict(size=5, opacity=0.8),\n",
        "        textposition=\"bottom center\"\n",
        "    )]\n",
        "\n",
        "    layout = go.Layout(\n",
        "        title=\"Representações de Palavras em 3D\",\n",
        "        scene=dict(xaxis_title=\"X\", yaxis_title=\"Y\", zaxis_title=\"Z\")\n",
        "    )\n",
        "\n",
        "    fig = go.Figure(data=data, layout=layout)\n",
        "    pio.show(fig)\n",
        "\n",
        "plot_embeddings_plotly(w2v.embeddings, w2v.vocab)"
      ],
      "metadata": {
        "colab": {
          "base_uri": "https://localhost:8080/",
          "height": 542
        },
        "id": "dyl91zj9KrCz",
        "outputId": "985d91e5-2361-4811-bd7c-6411b0db66ac"
      },
      "execution_count": 318,
      "outputs": [
        {
          "output_type": "display_data",
          "data": {
            "text/html": [
              "<html>\n",
              "<head><meta charset=\"utf-8\" /></head>\n",
              "<body>\n",
              "    <div>            <script src=\"https://cdnjs.cloudflare.com/ajax/libs/mathjax/2.7.5/MathJax.js?config=TeX-AMS-MML_SVG\"></script><script type=\"text/javascript\">if (window.MathJax && window.MathJax.Hub && window.MathJax.Hub.Config) {window.MathJax.Hub.Config({SVG: {font: \"STIX-Web\"}});}</script>                <script type=\"text/javascript\">window.PlotlyConfig = {MathJaxConfig: 'local'};</script>\n",
              "        <script charset=\"utf-8\" src=\"https://cdn.plot.ly/plotly-2.24.1.min.js\"></script>                <div id=\"081e1fd7-07d1-4482-b354-fa9e22633686\" class=\"plotly-graph-div\" style=\"height:525px; width:100%;\"></div>            <script type=\"text/javascript\">                                    window.PLOTLYENV=window.PLOTLYENV || {};                                    if (document.getElementById(\"081e1fd7-07d1-4482-b354-fa9e22633686\")) {                    Plotly.newPlot(                        \"081e1fd7-07d1-4482-b354-fa9e22633686\",                        [{\"marker\":{\"opacity\":0.8,\"size\":5},\"mode\":\"markers+text\",\"text\":[\"a\",\"able\",\"about\",\"after\",\"against\",\"all\",\"aloud\",\"already\",\"amusing\",\"and\",\"anna\",\"arrival\",\"as\",\"assumed\",\"at\",\"be\",\"bear\",\"been\",\"bent\",\"both\",\"by\",\"canvas\",\"career\",\"cheerful\",\"choose\",\"conduct\",\"corpse\",\"count\",\"day\",\"days\",\"differed\",\"disposed\",\"disposition\",\"down\",\"drawing\",\"drew\",\"eldest\",\"embroidering\",\"embroidery\",\"entering\",\"escapade\",\"evoked\",\"expected\",\"expelled\",\"expression\",\"eyes\",\"fathers\",\"fatherwho\",\"favorably\",\"for\",\"foresaw\",\"frame\",\"frames\",\"frightened\",\"from\",\"greeted\",\"had\",\"have\",\"he\",\"her\",\"hide\",\"him\",\"himself\",\"himwould\",\"his\",\"house\",\"if\",\"in\",\"it\",\"known\",\"ladies\",\"laughing\",\"leper\",\"lip\",\"little\",\"lively\",\"made\",\"make\",\"managed\",\"met\",\"mikh\\u00e1ylovna\",\"mole\",\"moscow\",\"most\",\"much\",\"never\",\"nevertheless\",\"not\",\"now\",\"of\",\"on\",\"one\",\"ones\",\"only\",\"or\",\"out\",\"over\",\"part\",\"pattern\",\"paused\",\"petersburg\",\"pierre\",\"policeman\",\"precisely\",\"prettier\",\"pretty\",\"princess\",\"princesses\",\"probably\",\"read\",\"reading\",\"readingthe\",\"received\",\"refrain\",\"riotous\",\"room\",\"rost\\u00f3vs\",\"rosy\",\"same\",\"scarcely\",\"scene\",\"second\",\"sent\",\"she\",\"silently\",\"sitting\",\"smile\",\"some\",\"spent\",\"stared\",\"staying\",\"stooped\",\"story\",\"taken\",\"that\",\"the\",\"their\",\"there\",\"they\",\"third\",\"though\",\"through\",\"time\",\"to\",\"told\",\"toward\",\"true\",\"trying\",\"turn\",\"two\",\"tying\",\"used\",\"usual\",\"was\",\"went\",\"were\",\"where\",\"which\",\"while\",\"who\",\"whom\",\"with\",\"wool\",\"would\",\"younger\",\"youngest\"],\"textposition\":\"bottom center\",\"x\":[-12.079394069554613,5.372757703096309,2.6195158538504213,-0.018488684776054306,0.31892673963762774,0.9693470287319116,0.9349289622595897,-1.0590289109605282,4.204280982850224,-8.665578702619229,0.1890347088935811,2.416981045486952,2.5411822882574424,4.417410224267245,-8.864383688017485,-5.124569905249574,4.8416277421935625,-1.2800240027197323,2.884327649475346,2.076321361021041,5.269244876979846,2.830770219493305,-0.051827105799433275,1.83545191759134,1.5478473805871062,2.2494941049926327,0.3847795681570009,-6.453702472232534,-4.332312427619633,-2.977778217427383,1.4603198191401592,-2.9171293402667833,3.5261265599804785,6.522284093218471,5.950866419487447,0.5015706785963588,-0.06251933129818013,-1.403892516522652,-0.33843669955587413,3.1895576524596847,-1.69304926897367,-0.3831691917076175,0.33802671526044265,6.0470650795347325,-2.6692812811104507,-4.071126368814485,-2.6098261309905704,-1.8188092466489605,-1.098362414032835,1.9365451072887965,3.203942483994389,-0.9255487742598517,-2.267595762247659,-3.281808015100331,-1.2637126468812712,-3.6671208430217757,-9.724675881155205,-4.018106706748428,3.522320592421345,1.960626580858089,2.458769055344044,-0.5595195677016036,5.781816167874876,-3.8170485526033864,-11.21431906954058,3.392177862990908,-3.857119287515349,16.71859586450469,7.451812806440688,-3.165488419584428,1.596891027442927,-4.960735699288349,4.84874472775287,0.5212644562728003,-4.186809727934661,-0.22292953394472184,-2.9438211178573996,-2.4549902157886168,2.806911465874572,-2.0248121704118334,1.6055429694603467,8.902662762626104,0.9013033178903493,-4.556850924039726,-0.6644005796123397,-5.29377294859226,-3.1006520444851318,3.0582882976582657,0.6615762963856351,8.13724315090945,0.5639495984209628,3.90623021871138,0.6148720939118719,-2.3980950107493935,0.5967559954196064,1.404440831612749,1.3076132710196908,1.7574604717210944,3.3186124220915434,3.6935203242244734,3.43168462348151,-5.557292469139889,0.735596600752131,3.752273934530969,1.3520177521034942,2.5718205895125053,-0.32971153240220835,-1.0225755207688505,0.1427546348644657,-0.4444385789420374,-1.7604657889969908,7.326930138380247,-2.5950070016389546,-3.2761485818871408,1.0111919080310101,0.40861509344143776,-3.249313225038338,2.5548503373391864,3.686519926431822,6.181532492976315,2.386502305513657,4.930834325861819,3.9146944379687483,-4.140494568340542,-4.119703062569075,-5.425791223521459,2.3773511436259955,-0.5710141588631327,2.0907452409249188,-2.3096284995849445,-4.234807028055526,-2.4169392675998185,-5.509564900567995,-2.9997558619289455,3.672388526523684,-15.714639537527413,-2.873716881338663,7.301539577691349,2.015490248200807,-0.5704570829809998,-0.1534054548154961,0.6098268794398769,-3.9235004250417074,-3.198388374316781,-2.938021218148124,-6.649361575816498,-0.63512811652794,0.26196956561001294,-1.504069630409153,0.003802140083128641,1.6647121916125787,-0.7166720478984763,-0.617406907004799,-4.794536589251716,-1.2181524583047947,-4.157679028356101,4.333312208132492,-5.905908800947232,6.34450233782852,2.986303464896795,-3.4447738538714052,5.1129928173951145,2.4705642158875962,-5.682647201364149,1.0718136762949102,6.42806899776803],\"y\":[-6.456997994253954,-4.169895940963438,-0.25719147364545475,-0.7651767774061654,-5.863800860802523,-1.9994462070468457,1.8123974567905434,-0.37193816359718346,0.6207781440557012,-11.644744521355065,3.0134713428481525,3.9974265944858343,3.7167207089419216,3.1085322256914982,6.920671697588849,1.163917140060013,-0.7679107344864047,-3.6309054984606313,-1.654411933063311,-0.32077946262461626,1.0930064322253759,-1.177634470369971,-3.7010668203001305,6.639808941617303,-7.848955044567898,-2.0207562311572245,5.0315990935871,-3.3935662455616584,2.4543141878128334,-1.1832917385662238,4.029496001434191,-6.48907093315272,3.11179642744463,1.3459660296583018,-0.8256579514641048,1.3086499270761334,3.8800769791973586,1.8351393867072645,2.5358376977873878,0.5488773068375569,3.2902279401288896,-2.458727714409403,4.276024016630843,-1.1964279329538292,1.1601227819972268,0.3688996306011025,-1.2306617181943549,1.5091185729312317,-2.432191876322939,-1.1038986244627407,-2.2191126040105624,-2.5060702481209307,-0.0255899493754845,2.0188675368139357,-5.483870864159996,8.652934627107369,-0.3065054493671688,-5.655046216477366,-5.532731894153471,-5.136615954855006,0.8673659421220877,2.6871437085318783,0.8929056645824155,-7.193586411225101,-6.6765431728754505,3.0656029283534,-2.9381822056774256,-0.13349666854402234,-6.5481449667927185,-2.517289701862471,7.718982158793514,-5.300156498634119,2.641018338721592,-2.9376709240708325,2.188094035098199,6.137590191652835,0.5976763418843587,-4.4135474206345435,-4.520750930404659,1.569933790865751,-1.4429133365674038,10.171964882583374,-7.226828662115611,5.976771423156436,4.011723781593291,-0.28199084824502685,2.822975047019742,-0.4139971909297201,-1.4405749774655547,-9.360431382544746,2.8988828252114742,-5.36794596419793,1.1601717233598807,0.049766064744299905,6.59121938359048,-2.9275305735141823,-2.4585475423340655,5.407794340149914,-3.570968849728161,2.8484293361661748,-1.5727444128247463,-3.0217592137165004,-0.8639567331472073,3.086587155324583,-1.6408758280688946,2.0656014634649744,0.6098471052335295,2.3687264296189117,-5.045936338830473,2.2935937700275972,2.4140337115040564,4.570756425902928,3.140360272506588,-4.058278409575651,-4.519360568277714,-1.4059077227942696,1.0847442246585515,1.1434233466521586,2.6877517890527,-4.289538484092009,0.5718858256591084,0.5984533362299127,-0.8254291735557365,-4.713799134456334,1.9244552006673947,5.35952829532785,-3.292180400163009,-2.7325065649378764,4.907708628508704,1.8732532617574265,2.750340282811015,-9.162197192909433,0.5589246945132545,0.5797035379793942,10.570065059912343,12.641985315767045,2.5267069034550693,-2.8070897506011265,-2.026525642493668,1.0392823915405516,-1.5634856527608167,-2.461161325241112,1.1848891519373428,4.955189537725729,0.2654947053344563,-1.365750365457977,0.48560801531946124,-4.828077379634761,-3.637370425093298,0.6463562835343459,0.349828432889872,-4.8681254330582515,1.9694563826007023,3.9768056750460814,-0.5901346530376637,1.3685184123644534,-4.962813502652009,1.3325815283775815,1.3765378565316702,8.731442215372466,1.0557490642738991,0.5067740378039396,-0.6815310889544902,2.1385078907511765,-0.4105702640569503,3.3867055842860387],\"z\":[-5.700760148287941,-1.5708911948247741,3.703339501769577,0.5055008302025028,0.8670498257900591,1.9786570031105177,1.1523485603172112,-4.015294435879183,-7.117988978331107,-4.761558601241426,1.929767023619561,-3.6559187673254256,-6.565607276643998,1.2678261132627267,2.6376911814875044,-5.106809353682001,0.8807453710585582,-0.9269489434423754,-0.018226188567690087,-1.710213189713286,-4.6235905398215795,2.6826893924459867,0.4744096523852581,3.1515595549133995,2.759124427547759,-4.623957342044985,-1.1814664591001984,2.299888563000749,-2.4390447340288914,0.12865537079855396,0.8898828229292902,-2.382471823996739,0.15903609773676747,-1.1663230172281778,0.36940127361326386,0.8304879844519559,4.388680697130496,-5.63609331236725,1.3962070540602398,1.5205741895502574,-1.4562981166865072,-2.733894951859072,2.7825212049762493,-1.3134011732170763,1.9090689094734932,3.438111590783347,0.5864421498359587,-0.27088187427620025,-2.113045015616583,-8.617319448457389,-1.7415408849053517,4.5324047128231575,-2.073372897562194,2.697292641000373,-1.4406892428136175,-1.0272911610376108,5.476536800682702,0.06199595283302703,2.834077142695292,7.974050769541368,-4.02677363995022,-0.7512632018575308,2.6183347245903805,2.7593859577325945,1.925694017087426,2.3380497159930815,-4.668404670814213,2.3155903088211494,-2.5434851258070448,-0.44711167475612823,-9.882398151516385,-3.1625823983108763,-0.4245466977632835,2.211819953189518,6.196053375911109,0.6248538747224532,1.4889878632052367,0.6451978649929142,4.325667221218345,5.21048241706307,3.806745145737263,4.245915959310658,4.548983856913956,-6.114568739334555,0.2655710392402649,-4.171365524657228,2.4675653154994603,0.1547938473158927,-0.6476992115493698,1.5517352211692002,-0.1125118140738217,15.346316431784947,-6.877121745734852,1.6091218428188527,-3.8553798198934652,0.16093480947757927,3.7402923169493136,-1.7037482232405052,-1.028343412697321,-0.37891310358725944,-0.311830003690999,8.003337450906274,1.8814806968727011,-1.0177266547965844,-0.9296302000147866,-1.5816355498022616,1.3313248067692742,-0.7107886770719717,-1.586998354543784,3.4878472746908153,0.6166079493787666,2.909889848876202,0.11171792013916242,-1.5089600954513291,-1.7696949000273066,-3.9223297676542486,-0.8686186440452549,-7.662343593970893,0.47771935301707624,-3.439805045135992,-6.043072727526583,0.13704187710685373,0.7369908789765357,-0.8602151682273895,2.2216825765624484,-2.650484572415914,-4.112924286416867,-1.8721507619056699,-0.5194202247615078,5.1821296963278325,-2.3137650714465603,0.6603867931750823,-1.6000756369719362,0.8090710560289204,0.1182665173694884,8.039039452510908,-3.1123519712321404,-0.8190382924094025,2.9707332245776836,0.6801040608598148,1.483432130686408,2.4660459297446478,0.9648014506391814,-14.56911130649315,-2.6696247638555737,-0.058532248843348275,-0.1189854976033752,-1.9879227778405932,1.5174759052846596,-0.42445322712749295,2.5832705044624444,0.07869793378327401,-0.24396580719080224,4.26350239417862,1.154304618512745,1.207887166102408,0.17882056994519174,3.0117554013867096,-1.2232425469848938,12.214663237576731,-1.3208598869082027,5.0923709660434655,-2.3207191849951183,-0.4412358711823744,-4.421673009153196,0.3847854671360151],\"type\":\"scatter3d\"}],                        {\"scene\":{\"xaxis\":{\"title\":{\"text\":\"X\"}},\"yaxis\":{\"title\":{\"text\":\"Y\"}},\"zaxis\":{\"title\":{\"text\":\"Z\"}}},\"title\":{\"text\":\"Representa\\u00e7\\u00f5es de Palavras em 3D\"},\"template\":{\"data\":{\"histogram2dcontour\":[{\"type\":\"histogram2dcontour\",\"colorbar\":{\"outlinewidth\":0,\"ticks\":\"\"},\"colorscale\":[[0.0,\"#0d0887\"],[0.1111111111111111,\"#46039f\"],[0.2222222222222222,\"#7201a8\"],[0.3333333333333333,\"#9c179e\"],[0.4444444444444444,\"#bd3786\"],[0.5555555555555556,\"#d8576b\"],[0.6666666666666666,\"#ed7953\"],[0.7777777777777778,\"#fb9f3a\"],[0.8888888888888888,\"#fdca26\"],[1.0,\"#f0f921\"]]}],\"choropleth\":[{\"type\":\"choropleth\",\"colorbar\":{\"outlinewidth\":0,\"ticks\":\"\"}}],\"histogram2d\":[{\"type\":\"histogram2d\",\"colorbar\":{\"outlinewidth\":0,\"ticks\":\"\"},\"colorscale\":[[0.0,\"#0d0887\"],[0.1111111111111111,\"#46039f\"],[0.2222222222222222,\"#7201a8\"],[0.3333333333333333,\"#9c179e\"],[0.4444444444444444,\"#bd3786\"],[0.5555555555555556,\"#d8576b\"],[0.6666666666666666,\"#ed7953\"],[0.7777777777777778,\"#fb9f3a\"],[0.8888888888888888,\"#fdca26\"],[1.0,\"#f0f921\"]]}],\"heatmap\":[{\"type\":\"heatmap\",\"colorbar\":{\"outlinewidth\":0,\"ticks\":\"\"},\"colorscale\":[[0.0,\"#0d0887\"],[0.1111111111111111,\"#46039f\"],[0.2222222222222222,\"#7201a8\"],[0.3333333333333333,\"#9c179e\"],[0.4444444444444444,\"#bd3786\"],[0.5555555555555556,\"#d8576b\"],[0.6666666666666666,\"#ed7953\"],[0.7777777777777778,\"#fb9f3a\"],[0.8888888888888888,\"#fdca26\"],[1.0,\"#f0f921\"]]}],\"heatmapgl\":[{\"type\":\"heatmapgl\",\"colorbar\":{\"outlinewidth\":0,\"ticks\":\"\"},\"colorscale\":[[0.0,\"#0d0887\"],[0.1111111111111111,\"#46039f\"],[0.2222222222222222,\"#7201a8\"],[0.3333333333333333,\"#9c179e\"],[0.4444444444444444,\"#bd3786\"],[0.5555555555555556,\"#d8576b\"],[0.6666666666666666,\"#ed7953\"],[0.7777777777777778,\"#fb9f3a\"],[0.8888888888888888,\"#fdca26\"],[1.0,\"#f0f921\"]]}],\"contourcarpet\":[{\"type\":\"contourcarpet\",\"colorbar\":{\"outlinewidth\":0,\"ticks\":\"\"}}],\"contour\":[{\"type\":\"contour\",\"colorbar\":{\"outlinewidth\":0,\"ticks\":\"\"},\"colorscale\":[[0.0,\"#0d0887\"],[0.1111111111111111,\"#46039f\"],[0.2222222222222222,\"#7201a8\"],[0.3333333333333333,\"#9c179e\"],[0.4444444444444444,\"#bd3786\"],[0.5555555555555556,\"#d8576b\"],[0.6666666666666666,\"#ed7953\"],[0.7777777777777778,\"#fb9f3a\"],[0.8888888888888888,\"#fdca26\"],[1.0,\"#f0f921\"]]}],\"surface\":[{\"type\":\"surface\",\"colorbar\":{\"outlinewidth\":0,\"ticks\":\"\"},\"colorscale\":[[0.0,\"#0d0887\"],[0.1111111111111111,\"#46039f\"],[0.2222222222222222,\"#7201a8\"],[0.3333333333333333,\"#9c179e\"],[0.4444444444444444,\"#bd3786\"],[0.5555555555555556,\"#d8576b\"],[0.6666666666666666,\"#ed7953\"],[0.7777777777777778,\"#fb9f3a\"],[0.8888888888888888,\"#fdca26\"],[1.0,\"#f0f921\"]]}],\"mesh3d\":[{\"type\":\"mesh3d\",\"colorbar\":{\"outlinewidth\":0,\"ticks\":\"\"}}],\"scatter\":[{\"fillpattern\":{\"fillmode\":\"overlay\",\"size\":10,\"solidity\":0.2},\"type\":\"scatter\"}],\"parcoords\":[{\"type\":\"parcoords\",\"line\":{\"colorbar\":{\"outlinewidth\":0,\"ticks\":\"\"}}}],\"scatterpolargl\":[{\"type\":\"scatterpolargl\",\"marker\":{\"colorbar\":{\"outlinewidth\":0,\"ticks\":\"\"}}}],\"bar\":[{\"error_x\":{\"color\":\"#2a3f5f\"},\"error_y\":{\"color\":\"#2a3f5f\"},\"marker\":{\"line\":{\"color\":\"#E5ECF6\",\"width\":0.5},\"pattern\":{\"fillmode\":\"overlay\",\"size\":10,\"solidity\":0.2}},\"type\":\"bar\"}],\"scattergeo\":[{\"type\":\"scattergeo\",\"marker\":{\"colorbar\":{\"outlinewidth\":0,\"ticks\":\"\"}}}],\"scatterpolar\":[{\"type\":\"scatterpolar\",\"marker\":{\"colorbar\":{\"outlinewidth\":0,\"ticks\":\"\"}}}],\"histogram\":[{\"marker\":{\"pattern\":{\"fillmode\":\"overlay\",\"size\":10,\"solidity\":0.2}},\"type\":\"histogram\"}],\"scattergl\":[{\"type\":\"scattergl\",\"marker\":{\"colorbar\":{\"outlinewidth\":0,\"ticks\":\"\"}}}],\"scatter3d\":[{\"type\":\"scatter3d\",\"line\":{\"colorbar\":{\"outlinewidth\":0,\"ticks\":\"\"}},\"marker\":{\"colorbar\":{\"outlinewidth\":0,\"ticks\":\"\"}}}],\"scattermapbox\":[{\"type\":\"scattermapbox\",\"marker\":{\"colorbar\":{\"outlinewidth\":0,\"ticks\":\"\"}}}],\"scatterternary\":[{\"type\":\"scatterternary\",\"marker\":{\"colorbar\":{\"outlinewidth\":0,\"ticks\":\"\"}}}],\"scattercarpet\":[{\"type\":\"scattercarpet\",\"marker\":{\"colorbar\":{\"outlinewidth\":0,\"ticks\":\"\"}}}],\"carpet\":[{\"aaxis\":{\"endlinecolor\":\"#2a3f5f\",\"gridcolor\":\"white\",\"linecolor\":\"white\",\"minorgridcolor\":\"white\",\"startlinecolor\":\"#2a3f5f\"},\"baxis\":{\"endlinecolor\":\"#2a3f5f\",\"gridcolor\":\"white\",\"linecolor\":\"white\",\"minorgridcolor\":\"white\",\"startlinecolor\":\"#2a3f5f\"},\"type\":\"carpet\"}],\"table\":[{\"cells\":{\"fill\":{\"color\":\"#EBF0F8\"},\"line\":{\"color\":\"white\"}},\"header\":{\"fill\":{\"color\":\"#C8D4E3\"},\"line\":{\"color\":\"white\"}},\"type\":\"table\"}],\"barpolar\":[{\"marker\":{\"line\":{\"color\":\"#E5ECF6\",\"width\":0.5},\"pattern\":{\"fillmode\":\"overlay\",\"size\":10,\"solidity\":0.2}},\"type\":\"barpolar\"}],\"pie\":[{\"automargin\":true,\"type\":\"pie\"}]},\"layout\":{\"autotypenumbers\":\"strict\",\"colorway\":[\"#636efa\",\"#EF553B\",\"#00cc96\",\"#ab63fa\",\"#FFA15A\",\"#19d3f3\",\"#FF6692\",\"#B6E880\",\"#FF97FF\",\"#FECB52\"],\"font\":{\"color\":\"#2a3f5f\"},\"hovermode\":\"closest\",\"hoverlabel\":{\"align\":\"left\"},\"paper_bgcolor\":\"white\",\"plot_bgcolor\":\"#E5ECF6\",\"polar\":{\"bgcolor\":\"#E5ECF6\",\"angularaxis\":{\"gridcolor\":\"white\",\"linecolor\":\"white\",\"ticks\":\"\"},\"radialaxis\":{\"gridcolor\":\"white\",\"linecolor\":\"white\",\"ticks\":\"\"}},\"ternary\":{\"bgcolor\":\"#E5ECF6\",\"aaxis\":{\"gridcolor\":\"white\",\"linecolor\":\"white\",\"ticks\":\"\"},\"baxis\":{\"gridcolor\":\"white\",\"linecolor\":\"white\",\"ticks\":\"\"},\"caxis\":{\"gridcolor\":\"white\",\"linecolor\":\"white\",\"ticks\":\"\"}},\"coloraxis\":{\"colorbar\":{\"outlinewidth\":0,\"ticks\":\"\"}},\"colorscale\":{\"sequential\":[[0.0,\"#0d0887\"],[0.1111111111111111,\"#46039f\"],[0.2222222222222222,\"#7201a8\"],[0.3333333333333333,\"#9c179e\"],[0.4444444444444444,\"#bd3786\"],[0.5555555555555556,\"#d8576b\"],[0.6666666666666666,\"#ed7953\"],[0.7777777777777778,\"#fb9f3a\"],[0.8888888888888888,\"#fdca26\"],[1.0,\"#f0f921\"]],\"sequentialminus\":[[0.0,\"#0d0887\"],[0.1111111111111111,\"#46039f\"],[0.2222222222222222,\"#7201a8\"],[0.3333333333333333,\"#9c179e\"],[0.4444444444444444,\"#bd3786\"],[0.5555555555555556,\"#d8576b\"],[0.6666666666666666,\"#ed7953\"],[0.7777777777777778,\"#fb9f3a\"],[0.8888888888888888,\"#fdca26\"],[1.0,\"#f0f921\"]],\"diverging\":[[0,\"#8e0152\"],[0.1,\"#c51b7d\"],[0.2,\"#de77ae\"],[0.3,\"#f1b6da\"],[0.4,\"#fde0ef\"],[0.5,\"#f7f7f7\"],[0.6,\"#e6f5d0\"],[0.7,\"#b8e186\"],[0.8,\"#7fbc41\"],[0.9,\"#4d9221\"],[1,\"#276419\"]]},\"xaxis\":{\"gridcolor\":\"white\",\"linecolor\":\"white\",\"ticks\":\"\",\"title\":{\"standoff\":15},\"zerolinecolor\":\"white\",\"automargin\":true,\"zerolinewidth\":2},\"yaxis\":{\"gridcolor\":\"white\",\"linecolor\":\"white\",\"ticks\":\"\",\"title\":{\"standoff\":15},\"zerolinecolor\":\"white\",\"automargin\":true,\"zerolinewidth\":2},\"scene\":{\"xaxis\":{\"backgroundcolor\":\"#E5ECF6\",\"gridcolor\":\"white\",\"linecolor\":\"white\",\"showbackground\":true,\"ticks\":\"\",\"zerolinecolor\":\"white\",\"gridwidth\":2},\"yaxis\":{\"backgroundcolor\":\"#E5ECF6\",\"gridcolor\":\"white\",\"linecolor\":\"white\",\"showbackground\":true,\"ticks\":\"\",\"zerolinecolor\":\"white\",\"gridwidth\":2},\"zaxis\":{\"backgroundcolor\":\"#E5ECF6\",\"gridcolor\":\"white\",\"linecolor\":\"white\",\"showbackground\":true,\"ticks\":\"\",\"zerolinecolor\":\"white\",\"gridwidth\":2}},\"shapedefaults\":{\"line\":{\"color\":\"#2a3f5f\"}},\"annotationdefaults\":{\"arrowcolor\":\"#2a3f5f\",\"arrowhead\":0,\"arrowwidth\":1},\"geo\":{\"bgcolor\":\"white\",\"landcolor\":\"#E5ECF6\",\"subunitcolor\":\"white\",\"showland\":true,\"showlakes\":true,\"lakecolor\":\"white\"},\"title\":{\"x\":0.05},\"mapbox\":{\"style\":\"light\"}}}},                        {\"responsive\": true}                    ).then(function(){\n",
              "                            \n",
              "var gd = document.getElementById('081e1fd7-07d1-4482-b354-fa9e22633686');\n",
              "var x = new MutationObserver(function (mutations, observer) {{\n",
              "        var display = window.getComputedStyle(gd).display;\n",
              "        if (!display || display === 'none') {{\n",
              "            console.log([gd, 'removed!']);\n",
              "            Plotly.purge(gd);\n",
              "            observer.disconnect();\n",
              "        }}\n",
              "}});\n",
              "\n",
              "// Listen for the removal of the full notebook cells\n",
              "var notebookContainer = gd.closest('#notebook-container');\n",
              "if (notebookContainer) {{\n",
              "    x.observe(notebookContainer, {childList: true});\n",
              "}}\n",
              "\n",
              "// Listen for the clearing of the current output cell\n",
              "var outputEl = gd.closest('.output');\n",
              "if (outputEl) {{\n",
              "    x.observe(outputEl, {childList: true});\n",
              "}}\n",
              "\n",
              "                        })                };                            </script>        </div>\n",
              "</body>\n",
              "</html>"
            ]
          },
          "metadata": {}
        }
      ]
    },
    {
      "cell_type": "markdown",
      "source": [
        "### Embeddings"
      ],
      "metadata": {
        "id": "7GzmYyrpJNhk"
      }
    },
    {
      "cell_type": "code",
      "source": [
        "w2v.print_embeddings()"
      ],
      "metadata": {
        "colab": {
          "base_uri": "https://localhost:8080/"
        },
        "id": "lvMoZMNrJA2I",
        "outputId": "3b9d36ae-148d-43a9-a64f-e5f10e368489"
      },
      "execution_count": 313,
      "outputs": [
        {
          "output_type": "stream",
          "name": "stdout",
          "text": [
            "cbow: [ 0.27873945  1.18600829  0.67122608  0.18456474  1.14366779  1.39353358\n",
            "  0.11654648  0.55784044  0.26172133 -0.42215595]\n",
            "de: [ 1.07287793 -0.68766858  1.17759777  1.06309015  1.52324086  0.27877163\n",
            "  0.87376582  0.34989713  0.28310248  0.52301831]\n",
            "este: [ 8.94174783e-01  1.00216777e-03  1.37660049e+00  2.72939542e-01\n",
            "  2.62491229e-01  1.02944310e+00 -5.96224071e-02  2.77164912e-01\n",
            "  8.93900475e-01  3.71835550e-01]\n",
            "exemplo: [ 0.37006272  0.11628134  1.26548828  0.6640783   1.22619539  0.35363948\n",
            " -0.14712915  0.26065928  1.02739796  0.89153298]\n",
            "modelo: [ 0.31486921  0.15497174 -0.84259473 -0.09791595  0.89734151  0.12012018\n",
            "  0.58384589  0.13769416  1.72639948 -0.35535966]\n",
            "o: [ 0.12140589  0.99979349  0.80437049  0.4432293  -0.79917557 -0.89382396\n",
            "  1.47260404  1.11710282  1.1319621   0.6051672 ]\n",
            "para: [-0.28888898  0.72827455 -0.96150922 -0.40951313  0.74569989  0.96831623\n",
            " -0.91810653  0.4741626  -0.1642701   1.71452898]\n",
            "será: [ 1.24623737  0.6518842   0.7905364   1.3598848  -0.08703038  0.57374925\n",
            "  0.85638213  0.45503548  0.59716978  1.0156178 ]\n",
            "texto: [ 0.78498714  0.3513799  -0.16270907 -0.23308333  0.33511319  0.27689873\n",
            "  0.15852851  0.81599613 -0.01367591  1.90831876]\n",
            "treinamento: [ 1.01792481 -0.28923257  0.59412768  1.03945643 -0.20528696  0.72786555\n",
            "  0.32584015  0.49224351 -0.28355042  0.76218529]\n",
            "treinar: [ 0.71357081  0.8541059   0.19006015  1.08763799  0.49713937 -0.03547084\n",
            " -0.05405064  0.46850094 -0.054223    0.58029867]\n",
            "um: [ 0.14859694  0.40030056 -0.00814564  0.42829556  1.0976781   0.91954646\n",
            "  0.61935636  0.41769467  0.34170525 -0.24937761]\n",
            "utilizado: [ 0.53924398  0.00465014  0.83830681  0.86300229 -0.65689412  0.93473447\n",
            "  0.79146357  1.25109281 -0.02765345  1.83008488]\n",
            "é: [ 1.0332128   0.99528939  0.31982877 -0.25348353  1.68024852  1.11354056\n",
            "  1.35995273  0.46930626  0.17095716 -0.72684443]\n"
          ]
        }
      ]
    }
  ]
}